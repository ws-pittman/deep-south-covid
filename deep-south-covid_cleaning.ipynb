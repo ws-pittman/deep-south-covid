{
 "cells": [
  {
   "cell_type": "code",
   "execution_count": 1,
   "metadata": {},
   "outputs": [],
   "source": [
    "import pandas as pd\n",
    "import csv"
   ]
  },
  {
   "cell_type": "code",
   "execution_count": 2,
   "metadata": {},
   "outputs": [],
   "source": [
    "states = ['Alabama', 'Georgia', 'Louisiana', 'Mississippi', 'South Carolina']\n",
    "states_2 = ['AL', 'GA', 'LA', 'MS', 'SC']\n",
    "out_of = ['Out of AL', 'Out of GA', 'Out of LA', 'Out of MS', 'Out of SC']"
   ]
  },
  {
   "cell_type": "code",
   "execution_count": 3,
   "metadata": {},
   "outputs": [],
   "source": [
    "url_confirmed = 'https://raw.githubusercontent.com/CSSEGISandData/COVID-19/master/csse_covid_19_data/csse_covid_19_time_series/time_series_covid19_confirmed_US.csv'\n",
    "url_deaths = 'https://raw.githubusercontent.com/CSSEGISandData/COVID-19/master/csse_covid_19_data/csse_covid_19_time_series/time_series_covid19_deaths_US.csv'\n",
    "url_tests = 'https://covidtracking.com/api/v1/states/daily.csv'"
   ]
  },
  {
   "cell_type": "code",
   "execution_count": 4,
   "metadata": {},
   "outputs": [],
   "source": [
    "confirmed = pd.read_csv(url_confirmed)\n",
    "deaths = pd.read_csv(url_deaths)\n",
    "tests = pd.read_csv(url_tests)"
   ]
  },
  {
   "cell_type": "code",
   "execution_count": 5,
   "metadata": {},
   "outputs": [],
   "source": [
    "confirmed.to_csv('time_series_covid19_confirmed_US.csv', index = False)\n",
    "deaths.to_csv('time_series_covid19_deaths_US.csv', index = False)\n",
    "tests.to_csv('CovidTracking_Daily.csv', index = False)"
   ]
  },
  {
   "cell_type": "code",
   "execution_count": 6,
   "metadata": {},
   "outputs": [],
   "source": [
    "confirmed = confirmed.drop(['UID', 'iso2', 'iso3', 'code3', 'FIPS', 'Country_Region', 'Lat', 'Long_', 'Combined_Key'], axis = 1)\n",
    "deaths = deaths.drop(['UID', 'iso2', 'iso3', 'code3', 'FIPS', 'Country_Region', 'Lat', 'Long_', 'Combined_Key', 'Population'], axis = 1)\n",
    "tests = tests.drop(['positive', 'negative', 'pending', 'hospitalizedCurrently', 'hospitalizedCumulative', 'inIcuCurrently', 'inIcuCumulative', 'onVentilatorCurrently', 'onVentilatorCumulative', 'recovered', 'hash', 'dateChecked', 'death', 'hospitalized', 'totalTestResults', 'posNeg', 'fips', 'deathIncrease', 'hospitalizedIncrease', 'negativeIncrease', 'positiveIncrease', 'totalTestResultsIncrease'], axis = 1)"
   ]
  },
  {
   "cell_type": "code",
   "execution_count": 7,
   "metadata": {},
   "outputs": [],
   "source": [
    "confirmed.rename(columns = {'Admin2':'County', 'Province_State':'State'}, inplace = True)\n",
    "deaths.rename(columns = {'Admin2':'County', 'Province_State':'State'}, inplace = True)\n",
    "tests.rename(columns = {'date':'Date', 'state':'State', 'total':'Tested'}, inplace = True)"
   ]
  },
  {
   "cell_type": "code",
   "execution_count": 8,
   "metadata": {},
   "outputs": [],
   "source": [
    "confirmed = confirmed.loc[confirmed['State'].isin(states)].reset_index()\n",
    "deaths = deaths.loc[deaths['State'].isin(states)].reset_index()\n",
    "tests = tests.loc[tests['State'].isin(states_2)].reset_index()"
   ]
  },
  {
   "cell_type": "code",
   "execution_count": 9,
   "metadata": {},
   "outputs": [],
   "source": [
    "confirmed = confirmed.drop(['index'], axis = 1)\n",
    "deaths = deaths.drop(['index'], axis = 1)\n",
    "tests = tests.drop(['index'], axis = 1)"
   ]
  },
  {
   "cell_type": "code",
   "execution_count": 10,
   "metadata": {},
   "outputs": [],
   "source": [
    "confirmed['State'].replace({'Alabama':'01', 'Georgia':'13', 'Louisiana':'22', 'Mississippi':'28', 'South Carolina':'45'}, inplace = True)\n",
    "deaths['State'].replace({'Alabama':'01', 'Georgia':'13', 'Louisiana':'22', 'Mississippi':'28', 'South Carolina':'45'}, inplace = True)\n",
    "tests['State'].replace({'AL':'01', 'GA':'13', 'LA':'22', 'MS':'28', 'SC':'45'}, inplace = True)"
   ]
  },
  {
   "cell_type": "code",
   "execution_count": 11,
   "metadata": {},
   "outputs": [],
   "source": [
    "col_list = []\n",
    "for item in confirmed.iloc[:, 2:]:\n",
    "    col_list.append(item)"
   ]
  },
  {
   "cell_type": "code",
   "execution_count": 12,
   "metadata": {},
   "outputs": [],
   "source": [
    "confirmed_clean = confirmed.melt(id_vars=['County', 'State'], value_vars=[col_list[0]], var_name = 'Date', value_name = 'Cases')\n",
    "deaths_clean = deaths.melt(id_vars=['County', 'State'], value_vars=[col_list[0]], var_name = 'Date', value_name = 'Deaths')\n",
    "tests_clean = tests.melt(id_vars=['Date', 'State'], value_vars=['Tested'], var_name = 'County', value_name = 'Cases')"
   ]
  },
  {
   "cell_type": "code",
   "execution_count": 13,
   "metadata": {},
   "outputs": [],
   "source": [
    "for item in col_list[1:]:\n",
    "    confirmed_clean_temp = confirmed.melt(id_vars=['County', 'State'], value_vars=[item], var_name = 'Date', value_name = 'Cases')\n",
    "    confirmed_clean = confirmed_clean.append(confirmed_clean_temp, ignore_index = True)\n",
    "    deaths_clean_temp = deaths.melt(id_vars=['County', 'State'], value_vars=[item], var_name = 'Date', value_name = 'Deaths')\n",
    "    deaths_clean = deaths_clean.append(deaths_clean_temp, ignore_index = True)"
   ]
  },
  {
   "cell_type": "code",
   "execution_count": 14,
   "metadata": {},
   "outputs": [],
   "source": [
    "confirmed_clean = confirmed_clean[~confirmed_clean.County.isin(out_of)]\n",
    "confirmed_clean['County'].replace({'Unassigned':'Unknown'}, inplace = True)\n",
    "deaths_clean = deaths_clean[~deaths_clean.County.isin(out_of)]\n",
    "deaths_clean['County'].replace({'Unassigned':'Unknown'}, inplace = True)"
   ]
  },
  {
   "cell_type": "code",
   "execution_count": 15,
   "metadata": {},
   "outputs": [],
   "source": [
    "confirmed_clean['Date'] = pd.to_datetime(confirmed_clean['Date']).dt.strftime(\"%m/%d/%y\")\n",
    "deaths_clean['Date'] = pd.to_datetime(deaths_clean['Date']).dt.strftime(\"%m/%d/%y\")\n",
    "tests_clean['Date'] = pd.to_datetime(tests_clean['Date'], format='%Y%m%d').dt.strftime(\"%m/%d/%y\")"
   ]
  },
  {
   "cell_type": "code",
   "execution_count": 16,
   "metadata": {},
   "outputs": [],
   "source": [
    "tests_clean.Cases = tests_clean.Cases.astype('int64')"
   ]
  },
  {
   "cell_type": "code",
   "execution_count": 17,
   "metadata": {},
   "outputs": [],
   "source": [
    "deaths_rows = deaths_clean.groupby(['State', 'Date']).sum().reset_index()\n",
    "deaths_rows = deaths_rows.melt(id_vars=['State', 'Date'], value_vars=['Deaths'], var_name = 'County', value_name = 'Cases')"
   ]
  },
  {
   "cell_type": "code",
   "execution_count": 18,
   "metadata": {},
   "outputs": [],
   "source": [
    "covid_combined = pd.merge(confirmed_clean, deaths_clean, on = ['County', 'State', 'Date'])\n",
    "dss = pd.concat([covid_combined, tests_clean, deaths_rows], sort = True).reset_index()\n",
    "dss['County'].replace({'LaSalle':'La Salle'}, inplace = True)"
   ]
  },
  {
   "cell_type": "code",
   "execution_count": 19,
   "metadata": {},
   "outputs": [],
   "source": [
    "dss = dss.drop(['index'], axis = 1)\n",
    "dss.Deaths.fillna(0, inplace = True)\n",
    "dss.Deaths = dss.Deaths.astype('int64')\n",
    "dss_clean = dss[['State', 'County', 'Date', 'Cases', 'Deaths']]"
   ]
  },
  {
   "cell_type": "code",
   "execution_count": 20,
   "metadata": {},
   "outputs": [],
   "source": [
    "al_clean = dss_clean.loc[dss_clean['State'] == '01'].reset_index()\n",
    "ga_clean = dss_clean.loc[dss_clean['State'] == '13'].reset_index()\n",
    "la_clean = dss_clean.loc[dss_clean['State'] == '22'].reset_index()\n",
    "ms_clean = dss_clean.loc[dss_clean['State'] == '28'].reset_index()\n",
    "sc_clean = dss_clean.loc[dss_clean['State'] == '45'].reset_index()"
   ]
  },
  {
   "cell_type": "code",
   "execution_count": 21,
   "metadata": {},
   "outputs": [],
   "source": [
    "al_clean = al_clean.drop(['index'], axis = 1)\n",
    "ga_clean = ga_clean.drop(['index'], axis = 1)\n",
    "la_clean = la_clean.drop(['index'], axis = 1)\n",
    "ms_clean = ms_clean.drop(['index'], axis = 1)\n",
    "sc_clean = sc_clean.drop(['index'], axis = 1)"
   ]
  },
  {
   "cell_type": "code",
   "execution_count": 22,
   "metadata": {},
   "outputs": [],
   "source": [
    "al_clean.to_csv('al-clean.csv', index=False)\n",
    "ga_clean.to_csv('ga-clean.csv', index=False)\n",
    "la_clean.to_csv('la-clean.csv', index=False)\n",
    "ms_clean.to_csv('ms-clean.csv', index=False)\n",
    "sc_clean.to_csv('sc-clean.csv', index=False)\n",
    "dss_clean.to_csv('dss-clean.csv', index=False)"
   ]
  }
 ],
 "metadata": {
  "kernelspec": {
   "display_name": "Python 3",
   "language": "python",
   "name": "python3"
  },
  "language_info": {
   "codemirror_mode": {
    "name": "ipython",
    "version": 3
   },
   "file_extension": ".py",
   "mimetype": "text/x-python",
   "name": "python",
   "nbconvert_exporter": "python",
   "pygments_lexer": "ipython3",
   "version": "3.7.4"
  }
 },
 "nbformat": 4,
 "nbformat_minor": 4
}
